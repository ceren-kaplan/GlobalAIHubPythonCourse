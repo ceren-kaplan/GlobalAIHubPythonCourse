{
 "cells": [
  {
   "cell_type": "code",
   "execution_count": null,
   "metadata": {},
   "outputs": [],
   "source": [
    "kisi1={\n",
    "    \"ad\":\"Ceren\",\n",
    "    \"soyad\":\"Kaplan\",\n",
    "    \"yas\":20,\n",
    "    \"unvan\":\"muhendis\"    \n",
    "}\n",
    "kisi2={\n",
    "    \"ad\":\"Ahmet\",\n",
    "    \"soyad\":\"Kamber\",\n",
    "    \"yas\":30,\n",
    "    \"unvan\":\"doktor\"\n",
    "}\n",
    "kisi3={\n",
    "    \"ad\":\"Selin\",\n",
    "    \"soyad\":\"Dere\",\n",
    "    \"yas\":35,\n",
    "    \"unvan\":\"mimar\"\n",
    "}\n",
    "kisi4={\n",
    "    \"ad\":\"Sultan\",\n",
    "    \"soyad\":\"Gül\",\n",
    "    \"yas\":49,\n",
    "    \"unvan\":\"memur\"\n",
    "}\n",
    "kisi5={\n",
    "    \"ad\":\"Cemre\",\n",
    "    \"soyad\":\"Demir\",\n",
    "    \"yas\":25,\n",
    "    \"unvan\":\"öğretmen\"   \n",
    "}\n",
    "print(\"kişi 1 CV:\",kisi1,\"\\n\"\"kişi 2 CV\",kisi2,\"\\n\"\"kişi 3 CV:\",kisi3,\"\\n\"\"kişi 4 CV:\",kisi4,\"\\n\"\"kişi 5 CV:\",kisi5)"
   ]
  }
 ],
 "metadata": {
  "kernelspec": {
   "display_name": "Python 3",
   "language": "python",
   "name": "python3"
  },
  "language_info": {
   "codemirror_mode": {
    "name": "ipython",
    "version": 3
   },
   "file_extension": ".py",
   "mimetype": "text/x-python",
   "name": "python",
   "nbconvert_exporter": "python",
   "pygments_lexer": "ipython3",
   "version": "3.8.5"
  }
 },
 "nbformat": 4,
 "nbformat_minor": 4
}
