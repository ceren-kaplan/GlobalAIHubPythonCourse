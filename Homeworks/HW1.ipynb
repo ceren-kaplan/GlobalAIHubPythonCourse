{
 "cells": [
  {
   "cell_type": "code",
   "execution_count": null,
   "metadata": {},
   "outputs": [],
   "source": [
    "list1=[1,3,5,7,9,11,13]\n",
    "list2=[0,2,4,6,8,10,12]\n",
    "list1.extend(list2)\n",
    "newlist = [i*2 for i in list1]\n",
    "print(\"newlist:\",newlist)\n",
    "for i in newlist:\n",
    "    print(\"sayı:\",i,\"tür:\",type(i))"
   ]
  }
 ],
 "metadata": {
  "kernelspec": {
   "display_name": "Python 3",
   "language": "python",
   "name": "python3"
  },
  "language_info": {
   "codemirror_mode": {
    "name": "ipython",
    "version": 3
   },
   "file_extension": ".py",
   "mimetype": "text/x-python",
   "name": "python",
   "nbconvert_exporter": "python",
   "pygments_lexer": "ipython3",
   "version": "3.8.5"
  }
 },
 "nbformat": 4,
 "nbformat_minor": 4
}
