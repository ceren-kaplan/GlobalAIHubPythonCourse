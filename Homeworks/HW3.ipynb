{
 "cells": [
  {
   "cell_type": "code",
   "execution_count": null,
   "metadata": {},
   "outputs": [],
   "source": [
    "list=[]\n",
    "d={}\n",
    "for i in range(5):\n",
    "    name=input(\"Enter your name:\")\n",
    "    surname=input(\"Enter your surname:\")\n",
    "    midterm=float(input(\"Enter your midterm grade: \"))\n",
    "    project=float(input(\"Enter your project grade: \"))\n",
    "    final=float(input(\"Enter your final grade: \"))\n",
    "    passingGrade=midterm*(0.3)+project*(0.3)+final*(0.4)\n",
    "    list.append(passingGrade)\n",
    "    d[i]={\n",
    "        \"name\":name,\n",
    "        \"surname\":surname,\n",
    "        \"midterm\":midterm,\n",
    "        \"project\":project,\n",
    "        \"final\":final,\n",
    "        \"passingGrade\":passingGrade\n",
    "         }\n",
    " \n",
    "    print(d[i]) \n",
    "list.sort(reverse=True)\n",
    "print(list)"
   ]
  }
 ],
 "metadata": {
  "kernelspec": {
   "display_name": "Python 3",
   "language": "python",
   "name": "python3"
  },
  "language_info": {
   "codemirror_mode": {
    "name": "ipython",
    "version": 3
   },
   "file_extension": ".py",
   "mimetype": "text/x-python",
   "name": "python",
   "nbconvert_exporter": "python",
   "pygments_lexer": "ipython3",
   "version": "3.8.5"
  }
 },
 "nbformat": 4,
 "nbformat_minor": 4
}
