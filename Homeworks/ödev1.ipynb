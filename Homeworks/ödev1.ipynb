{
 "cells": [
  {
   "cell_type": "code",
   "execution_count": 6,
   "metadata": {},
   "outputs": [
    {
     "name": "stdout",
     "output_type": "stream",
     "text": [
      "newlist: [2, 6, 10, 14, 18, 22, 26, 0, 4, 8, 12, 16, 20, 24]\n",
      "sayı: 2 tür: <class 'int'>\n",
      "sayı: 6 tür: <class 'int'>\n",
      "sayı: 10 tür: <class 'int'>\n",
      "sayı: 14 tür: <class 'int'>\n",
      "sayı: 18 tür: <class 'int'>\n",
      "sayı: 22 tür: <class 'int'>\n",
      "sayı: 26 tür: <class 'int'>\n",
      "sayı: 0 tür: <class 'int'>\n",
      "sayı: 4 tür: <class 'int'>\n",
      "sayı: 8 tür: <class 'int'>\n",
      "sayı: 12 tür: <class 'int'>\n",
      "sayı: 16 tür: <class 'int'>\n",
      "sayı: 20 tür: <class 'int'>\n",
      "sayı: 24 tür: <class 'int'>\n"
     ]
    }
   ],
   "source": [
    "list1=[1,3,5,7,9,11,13]\n",
    "list2=[0,2,4,6,8,10,12]\n",
    "list1.extend(list2)\n",
    "newlist = [i*2 for i in list1]\n",
    "print(\"newlist:\",newlist)\n",
    "for i in newlist:\n",
    "    print(\"sayı:\",i,\"tür:\",type(i))"
   ]
  }
 ],
 "metadata": {
  "kernelspec": {
   "display_name": "Python 3",
   "language": "python",
   "name": "python3"
  },
  "language_info": {
   "codemirror_mode": {
    "name": "ipython",
    "version": 3
   },
   "file_extension": ".py",
   "mimetype": "text/x-python",
   "name": "python",
   "nbconvert_exporter": "python",
   "pygments_lexer": "ipython3",
   "version": "3.8.5"
  }
 },
 "nbformat": 4,
 "nbformat_minor": 4
}
